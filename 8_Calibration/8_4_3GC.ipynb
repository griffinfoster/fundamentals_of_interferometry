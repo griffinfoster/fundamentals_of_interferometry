{
 "cells": [
  {
   "cell_type": "markdown",
   "metadata": {},
   "source": [
    "***\n",
    "\n",
    "* [Outline](../0_Introduction/0_introduction.ipynb)\n",
    "* [Glossary](../0_Introduction/1_glossary.ipynb)\n",
    "* 8. Calibration \n",
    "    * Previous: [8.3 2GC Calibration](../8_Calibration/8_3_2GC.ipynb)\n",
    "    * Next: [8.5 Further reading and references](../8_Calibration/8_x_further_reading_and_references.ipynb)\n",
    "\n",
    "***"
   ]
  },
  {
   "cell_type": "markdown",
   "metadata": {},
   "source": [
    "Import standard modules:"
   ]
  },
  {
   "cell_type": "code",
   "execution_count": 1,
   "metadata": {
    "collapsed": true
   },
   "outputs": [],
   "source": [
    "import numpy as np\n",
    "import matplotlib.pyplot as plt\n",
    "%matplotlib inline"
   ]
  },
  {
   "cell_type": "markdown",
   "metadata": {},
   "source": [
    "Import section specific modules:"
   ]
  },
  {
   "cell_type": "code",
   "execution_count": 1,
   "metadata": {
    "collapsed": false
   },
   "outputs": [
    {
     "data": {
      "text/html": [
       "<style>\n",
       "\n",
       "p.prerequisites {\n",
       "    border:5px;\n",
       "    border-style:none;\n",
       "    background-color:#F0F0F0;\n",
       "    box-shadow: 5px 5px 2px #888888;\n",
       "    border-color:#FF0000;\n",
       "    padding: 1em;\n",
       "    }\n",
       "\n",
       "p.conclusion {\n",
       "    border:5px;\n",
       "    border-style:none;\n",
       "    background-color:#c8ebca;\n",
       "    box-shadow: 5px 5px 2px #888888;\n",
       "    border-color:#c8ebca;\n",
       "    padding: 1em;\n",
       "    }\n",
       "\n",
       "div.warn {    \n",
       "    background-color: #fcf2f2;\n",
       "    border-color: #dFb5b4;\n",
       "    border-left: 5px solid #dfb5b4;\n",
       "    padding: 0.5em;\n",
       "    }\n",
       "\n",
       "div.advice {    \n",
       "    background-color: #ecf8ed;\n",
       "    border-color: #a2dda5;\n",
       "    border-left: 5px solid #a2dda5;\n",
       "    padding: 0.5em;\n",
       "    }\n",
       "\n",
       "</style>\n",
       "\n"
      ],
      "text/plain": [
       "<IPython.core.display.HTML object>"
      ]
     },
     "execution_count": 1,
     "metadata": {},
     "output_type": "execute_result"
    }
   ],
   "source": [
    "from IPython.core.display import HTML \n",
    "styles = open(\"../style/course.css\", \"r\").read() # read course.css file from root dir\n",
    "HTML(styles) # apply style to page"
   ]
  },
  {
   "cell_type": "markdown",
   "metadata": {},
   "source": [
    "## 8.4 3GC Calibration: direction-dependent self-calibration"
   ]
  },
  {
   "cell_type": "markdown",
   "metadata": {},
   "source": [
    "As explained in [Chapter 7 &#10142;](../7_Observing_Systems/7_0_introduction) , the increased field-of-view of modern telescopes \n",
    "causes direction-dependent effects, like the primary beam and pointing error, to become apparent. We can therefore no longer merely rely on using direction-independent self-calibration (see [Sec. 8.3 &#10142;](../8_Calibration/8_3_2GC.ipynb)). There are in principal many approaches one can use to perform direction-dependent calibration (see [Sec. 8.4.1 &#10549;](#cal:sec:p_versus_h) for more details).\n",
    "\n",
    "In this section we will mainly concentrate on one specific approach: *differential gains* ([<cite data-cite='Smirnov2011'>Revisiting the radio interferometer measurement equation-II.  Calibration and direction-dependent effects</cite> &#10548;](http://arxiv.org/abs/1101.1765)). The reason being, this approach provides a nice framework with which one can build up some intuition as to how direction-dependent calibration differs from direction-independent calibration.\n",
    "\n",
    "In [Sec. 7.2 &#10142;](../7_Observing_Systems/7_2_rime.ipynb) the following equation was\n",
    "presented:\n",
    "\n",
    "<p class=conclusion>\n",
    "  <font size=4> **The all-sky RIME**</font>\n",
    "  <br>\n",
    "  <br>\n",
    "  \\begin{equation}\n",
    "  \\mathbf{V}_{pq} = \\mathbf{G}_p\\mathbf{X}_{pq}\\mathbf{G}_q^H,\n",
    "  \\end{equation}\n",
    "</p>\n",
    "\n",
    "This equation is known as the all-sky RIME, where $\\mathbf{V}_{pq}$ is the $2\\times2$ correlation matrix that the interferometer measured and $\\mathbf{X}_{pq}$ is the $2\\times2$ coherency matrix. Moreover, $\\mathbf{G}_p$ and $\\mathbf{G}_q$ are G-Jones antenna matrices. During calibration we estimate $\\mathbf{G}_p$ and $\\mathbf{G}_p$ which we then in turn use to correct the correlation matrix $\\mathbf{V}_{pq}$. The subscripts $p$ and $q$ denote the antennas that were used to make the measurement. Furthermore, $\\mathbf{X}_{pq} = \\sum_s \\mathbf{X}_{spq}$, with $s$ being the source index, i.e. in the all-sky RIME we assume that the error that corrupts our visibilities is independent of the source's position. As explained in [Sec. 7.3 &#10142;](../7_Observing_Systems/7_3_direction_independent_and_dependent_effects.ipynb), this assumption is violated when we work with a larger field-of-view. As an example, the primary beam of an instrument varies significantly over a large field-of-view (generally in time and frequency). In the case of the primary beam we could try to model the direction dependent effect by adding an a-priori E-Jones matrix to our Jones' chain (see [<cite data-cite='Mitra2015'>Incorporation of antenna primary beam patterns in radio-interferometric data reduction to produce wide-field, high-dynamic-range images</cite> &#10548;](http://ieeexplore.ieee.org/Xplore/defdeny.jsp?url=http%3A%2F%2Fieeexplore.ieee.org%2Fstamp%2Fstamp.jsp%3Ftp%3D%26arnumber%3D7297163%26userType%3Dinst&denyReason=-134&arnumber=7297163&productsMatched=null&userType=inst)). However, if we do not have any information about the physical source that is responsible for a direction dependent effect then we could use the idea of differential gains instead. In addition to to the direction-independent gain we add a differential gain which could be different for each source. Mathematically, we can express this as\n",
    "<p class=conclusion>\n",
    "  <font size=4> **Adding differential gains**</font>\n",
    "  <br>\n",
    "  <br>\n",
    "  \\begin{equation}\n",
    "  \\mathbf{V}_{pq} = \\mathbf{G}_p \\left (\\sum_s\\Delta\\mathbf{E}_{sp}\\mathbf{X}_{spq}    \\Delta     \\mathbf{E}_{sq}^H \\right) \\mathbf{G}_q^H,\n",
    "\\end{equation}\n",
    "</p>\n",
    "\n",
    "where $\\Delta\\mathbf{E}_{sp}$ and $\\Delta\\mathbf{E}_{sq}^H$ are the differential gains associated with source $s$ and antenna $p$ and $q$ respectively.\n",
    "We now use the above equation and least squares (see [Sec. 8.1 &#10142;](../8_Calibration/8_1_Calibration_Least_Squares_Problem.ipynb)) to estimate the unknown diferrential and direction independent gains, which can then be used to correct $\\mathbf{V}_{pq}$. \n",
    "\n",
    "<div class=warn>\n",
    "**Warning:** Note that we present the differential gains method by using the full-polarized \n",
    "RIME equation, while we use the unpolarized RIME in [Sec. 8.1 &#10142;](../8_Calibration/8_1_Calibration_Least_Squares_Problem.ipynb). We explain the difference between them in [Sec. 8.1 &#10142;](../8_Calibration/8_1_Calibration_Least_Squares_Problem.ipynb).  \n",
    "</div><br>\n",
    "\n",
    "<div class=advice>\n",
    "**Advice:** Solve for $\\mathbf{G}_p$ on small time/frequency scales (as per\n",
    "normal self-calibration), while simultaneously solving for $\\Delta\\mathbf{E}_{sp}$ on larger\n",
    "time/frequency scales, for a subset of faint sources.  \n",
    "</div><br>\n",
    "\n",
    "<div class=warn>\n",
    "**Warning:** Differential gains should be used sparingly in order to avoid over-fitting.  \n",
    "</div>"
   ]
  },
  {
   "cell_type": "markdown",
   "metadata": {},
   "source": [
    "Another question now arises, how do we know if a source requires a diferential gain factor? [Fig 8.x &#10549;](#cal:fig:dir_dep) <!--\\ref{cal:fig:dir_dep}--> helps to answer this question. "
   ]
  },
  {
   "cell_type": "markdown",
   "metadata": {},
   "source": [
    "<img src='figures/dir_dep.png' width=40%>"
   ]
  },
  {
   "cell_type": "markdown",
   "metadata": {},
   "source": [
    "<div align=\"center\">**Figure 8.x**: Which sources require a differential gain factor?</div> <a id='cal:fig:dir_dep'></a> <!--\\label{cal:fig:dir_dep}-->"
   ]
  },
  {
   "cell_type": "markdown",
   "metadata": {},
   "source": [
    "We can learn two main things from [Fig 8.x &#10549;](#cal:fig:dir_dep) <!--\\ref{cal:fig:dir_dep}-->:\n",
    "\n",
    "1. In practise it is easy to spot a source which requires a differential gain (in addition to the direction independent gain). The sources\n",
    "which require a differential gain are usually surrounded by a lot of imaging artefacts, which is what the purple region around the black sources represent. The yellow sources do not require a differential gain factor (no imaging artefacts around them), while the black sources do.\n",
    "2. The further a source is from the field center, the more likely it is to be affected by a direction dependent effect."
   ]
  },
  {
   "cell_type": "markdown",
   "metadata": {},
   "source": [
    "We now present a real radio image which was created by using the differential gains method. In [Fig. 8.x &#10549;](#cal:fig:diff_smirnov) <!--\\ref{cal:fig:dir_dep}-->\n",
    "we have a JVLA image of the 3C147 field. The large image is the final end product, i.e\n",
    "the differential gains method has already been applied. The upper left image insert is\n",
    "just an enlargement of a subregion in the larger image (this is what the the \n",
    "yellow block and lines try to convey). The bottom left image insert depicts how the subregion used to look before the differential gains method was applied. The second inserted image validates the comments we have already made, in particular sources which require a differential gain factor in addition to the general antenna gain is usually surounded by a lot of imaging artefacts. The primary direction dependent effect which was not taken into account, resulting in the imaging artefacts visible in the \n",
    "bottom left image insert was the rotating JVLA primary beam.    "
   ]
  },
  {
   "cell_type": "markdown",
   "metadata": {},
   "source": [
    "<img src='figures/dde_Oleg.png' width=100%>"
   ]
  },
  {
   "cell_type": "markdown",
   "metadata": {},
   "source": [
    "<div align=\"center\">**Figure 8.x**: Differential gains method applied to the 3C147 field (courtesy of **O.M. Smirnov**). </div> <a id='cal:fig:diff_smirnov'></a> <!--\\label{cal:fig:diff_smirnov}-->"
   ]
  },
  {
   "cell_type": "markdown",
   "metadata": {
    "collapsed": true
   },
   "source": [
    "### 8.4.1 Physics-based and heuristic-only approaches <a id='cal:sec:p_versus_h'></a> <!--\\label{cal:sec:p_versus_h}-->"
   ]
  },
  {
   "cell_type": "markdown",
   "metadata": {},
   "source": [
    "3GC can in general be divided into *physics-based* and *heuristic-only* approaches. If \n",
    "we know the underlying physical phenomenon which is responsible for a specific direction-dependent effect we may employ a physics-based calibration approach. Once we know the source of a direction-dependent effect we can try and construct a physical model for it which we then parameterize. The aim of calibration then is to try and estimate the parameters of this model and then to use the estimated parameters to correct our observed visibilities. In other cases the direction-dependent phenomenon is well defined a-priori and we just need to correctly incorporate it whilst calibrating. The following list contain example physics-based approaches:\n",
    "\n",
    "<p class=conclusion>\n",
    "  <font size=4> **3GC: Physics-based approaches**</font>\n",
    "  <br>\n",
    "  <br>\n",
    "&bull; *Pointing-selfcal*: [<cite data-cite='Bhatnagar2004'>EVLA Memo 84. Solving for the antenna based pointing errors</cite> &#10548;](www.aoc.nrao.edu/evla/geninfo/memoseries/evlamemo84.ps) <br>\n",
    "&bull; *Kalman filter*: [<cite data-cite='Tasse2014'>Nonlinear Kalman filters for calibration in radio interferometry</cite> &#10548;](http://arxiv.org/abs/1403.6308)<br> \n",
    "&bull; *Primary beam*: [<cite data-cite='Mitra2015'>Incorporation of antenna primary beam patterns in radio-interferometric data reduction to produce wide-field, high-dynamic-range images</cite> &#10548;](http://ieeexplore.ieee.org/Xplore/defdeny.jsp?url=http%3A%2F%2Fieeexplore.ieee.org%2Fstamp%2Fstamp.jsp%3Ftp%3D%26arnumber%3D7297163%26userType%3Dinst&denyReason=-134&arnumber=7297163&productsMatched=null&userType=inst)\n",
    "</p> \n",
    "\n",
    "It is not a trivial thing to correct for a direction-dependent effect, whether it is known a-priori or from calibration. The following list contains some approaches that have been proposed to accomplish this:\n",
    "\n",
    "<p class=conclusion>\n",
    "  <font size=4> **3GC: Correcting for a known direction dependent effect**</font>\n",
    "  <br>\n",
    "  <br>\n",
    "&bull; *Facetting*: [<cite data-cite='Cornwell1992'>Radio-interferometric imaging of very large fields-The problem of non-coplanar arrays</cite> &#10548;](http://adsabs.harvard.edu/abs/1992A%26A...261..353C)<br>\n",
    "&bull; *AW-projection*: [<cite data-cite='Batnagar2008'>Correcting direction-dependent gains in the deconvolution of radio interferometric images</cite> &#10548;](http://arxiv.org/abs/0805.0834) \n",
    "</p>\n",
    "\n",
    "On the other side of the spectrum we have the heuristic-only approaches. In an heuristic approach we do not know the physical source of a specific direction-dependent effect. We instead introduce a number of free-parameters which we then try to optimize given some user defined heuristic. Some 3GC heuristic approaches are listed below:\n",
    "\n",
    "<p class=conclusion>\n",
    "  <font size=4> **3GC: Heuristic-only approaches**</font>\n",
    "  <br>\n",
    "  <br>\n",
    "&bull; *Peeling*: [<cite data-cite='Noordam2004'>LOFAR calibration challenges</cite> &#10548;](http://proceedings.spiedigitallibrary.org/proceeding.aspx?articleid=847375)<br>\n",
    "&bull; *Differential gains*: [<cite data-cite='Smirnov2011'>Revisiting the radio interferometer measurement equation-II.  Calibration and direction-dependent effects</cite> &#10548;](http://arxiv.org/abs/1101.1765)<br>\n",
    "&bull; *Clustered calibration*: [<cite data-cite='Kazemi2013'>Clustered calibration: an improvement to radio interferometric direction-dependent self-calibration</cite> &#10548;](http://arxiv.org/abs/1301.0633)\n",
    "</p>\n",
    "\n",
    "Once we obtained a heuristic solution we can try to makes sense of it by fitting a physical model to it. Prime examples of this include: \n",
    "\n",
    "<p class=conclusion>\n",
    "  <font size=4> **3GC: Fitting a model to heuristic-only solutions**</font>\n",
    "  <br>\n",
    "  <br>\n",
    "&bull; *SPAM (source peeling and atmospheric modelling)*: [<cite data-cite='Intema2009'>Ionospheric calibration of low frequency radio interferometric observations using the peeling scheme-I. Method description and first results</cite> &#10548;](http://arxiv.org/abs/0904.3975) <br> \n",
    "&bull; *Primary beam shapes*: [<cite data-cite='Yatawatta2013'>Estimation of radio interferometer beam shapes using Riemannian optimization</cite> &#10548;](http://arxiv.org/abs/1209.4236)\n",
    "</p>"
   ]
  },
  {
   "cell_type": "markdown",
   "metadata": {},
   "source": [
    "### 8.4.2 Solver Development"
   ]
  },
  {
   "cell_type": "markdown",
   "metadata": {},
   "source": [
    "As we explained in [Sec. 8.2 &#10142;](../8_Calibration/8_2_1GC.ipynb), the least-squares solver (see [Sec. 8.1 &#10142;](../8_Calibration/8_1_Calibration_Least_Squares_Problem.ipynb)) only became popular with the advent of self-calibration. Many improvements and alternatives to the least-squares solver, have since been developed. We list the most recent developments below:\n",
    "\n",
    "<p class=conclusion>\n",
    "  <font size=4> **Solver Development**</font>\n",
    "  <br>\n",
    "  <br>\n",
    "&bull; *Eigendecomposition*: [<cite data-cite='Boonstra2003'>Gain calibration methods for radio telescope arrays</cite> &#10548;](http://ieeexplore.ieee.org/xpl/freeabs_all.jsp?arnumber=1145704&abstractAccess=no&userType=inst)<br>\n",
    "&bull; *SAGEcal*: [<cite data-cite='Kazemi2011'>Radio interferometric calibration using the SAGE algorithm</cite> &#10548;](http://arxiv.org/abs/1012.1722)<br>\n",
    "&bull; *Robust calibration*: [<cite data-cite='Kazemi2013robust'>Robust radio interferometric calibration using the t-distribution</cite> &#10548;](http://arxiv.org/abs/1307.5040)<br>\n",
    "&bull; *StEFCal*: [<cite data-cite='Salvini2014'>Fast gain calibration in radio astronomy using alternating direction implicit methods: Analysis and applications</cite> &#10548;](http://arxiv.org/abs/1410.2101)<br>\n",
    "&bull; *Riemann-Manifold*: [<cite data-cite='Yatawatta2013'>Radio interferometric calibration using a Riemannian manifold</cite> &#10548;](http://arxiv.org/abs/1303.1029)<br>\n",
    "&bull; *Blind Calibration*: [<cite data-cite='Kazemi2015'>Blind calibration for radio interferometry using convex optimization</cite> &#10548;](http://ieeexplore.ieee.org/xpl/freeabs_all.jsp?arnumber=7330285&abstractAccess=no&userType=inst)<br>\n",
    "&bull; *Complex Optimization*: [<cite data-cite='Smirnov2015'>Radio interferometric gain calibration as a complex optimization problem</cite> &#10548;](http://arxiv.org/abs/1502.06974)<br>\n",
    "&bull; *Kalman filter*: [<cite data-cite='Tasse2014'>Nonlinear Kalman filters for calibration in radio interferometry</cite> &#10548;](http://arxiv.org/abs/1403.6308)\n",
    "</p>\n",
    "\n",
    "From the above list StEFCal is arguably the most important recent development, which is why \n",
    "we will discuss it in more detail in [Sec. 8.4.2.1 &#10142;](../8_Calibration/8_4_3GC.ipynb#cal:sec:stef). It is such an important development as it lowers the computational complexity of calibration from O$(N^3)$ to O$(N^2)$.  "
   ]
  },
  {
   "cell_type": "markdown",
   "metadata": {},
   "source": [
    "#### 8.4.2.1 StEFCal <a id='cal:sec:stef'></a> <!--\\label{cal:sec:stef}-->"
   ]
  },
  {
   "cell_type": "markdown",
   "metadata": {},
   "source": [
    "StEFCal is an *alternating direction implicit method*. It works by first solving $\\boldsymbol{\\mathcal{G}}^H$ holding $\\boldsymbol{\\mathcal{G}}$ constant and then solving $\\boldsymbol{\\mathcal{G}}$ holding $\\boldsymbol{\\mathcal{G}}^H$ constant (we linearize the calibration problem).<br><br> \n",
    "<div class=warn>\n",
    "**Warning:** We have switched back to the unpolarized notation we used in [Sec. 8.1 &#10142;](../8_Calibration/8_1_Calibration_Least_Squares_Problem.ipynb).  \n",
    "</div>\n",
    "\n",
    "Since $\\boldsymbol{\\mathcal{D}}- \\boldsymbol{\\mathcal{G}}\\boldsymbol{\\mathcal{M}}\\boldsymbol{\\mathcal{G}}^H$ is Hermition the two steps are equivelant and we therefore only need the following single update step:\n",
    "\n",
    "$\\boldsymbol{\\mathcal{G}}^{[i]} = \\textrm{argmin}_{\\boldsymbol{\\mathcal{G}}}\\left\\|\\boldsymbol{\\mathcal{D}}- \\boldsymbol{\\mathcal{G}}^{[i-1]}\\boldsymbol{\\mathcal{M}}\\boldsymbol{\\mathcal{G}}^H\\right\\|$,\n",
    "\n",
    "We can now write:\n",
    "\n",
    "$\\left\\|\\boldsymbol{\\mathcal{D}} - \\boldsymbol{\\mathcal{Z}}^{[i]}\\boldsymbol{\\mathcal{G}}^H\\right\\| = \\sqrt{\\sum_{p}^N\\boldsymbol{\\mathcal{D}}_{:,p}-\\boldsymbol{\\mathcal{Z}}_{:,p}^{[i]}\\left(g_p^{[i]}\\right)^*}$, with $\\boldsymbol{\\mathcal{Z}}^{[i]} = \\boldsymbol{\\mathcal{G}}^{[i]}\\boldsymbol{\\mathcal{M}}$. We denote the $p$-th column \n",
    "of $\\boldsymbol{\\mathcal{A}}$ with $\\boldsymbol{\\mathcal{A}}_{:,p}$. If we now apply the \n",
    "normal equation method we readily obtain:\n",
    "\n",
    "<p class=conclusion>\n",
    "  <font size=4> **StEFCal update step**</font>\n",
    "  <br>\n",
    "  <br>\n",
    "  \\begin{equation}\n",
    "  g_p^{[i]} = \\frac{\\boldsymbol{\\mathcal{D}}^H_{:,p}\\boldsymbol{\\mathcal{Z}}_{:,p}^{[i-1]}}{\\left(\\boldsymbol{\\mathcal{Z}}_{:,p}^{[i-1]}\\right)^H\\boldsymbol{\\mathcal{Z}}_{:,p}^{[i-1]}}.\n",
    "  \\end{equation}\n",
    "</p>\n",
    "\n",
    "We can use the above update step to iteratively obtain the best estimate of $g_p$.\n",
    "We iterate until we exceed some maximum number of iterations or if we reach our convergence criteria.<br><br> \n",
    "<div class=warn>\n",
    "**Warning:** In practise we replace the gain solution of each even\n",
    "iteration by the average of the current gain solution and the gain\n",
    "solution of the previous odd iteration.\n",
    "</div>"
   ]
  },
  {
   "cell_type": "markdown",
   "metadata": {
    "collapsed": true
   },
   "source": [
    "***\n",
    "\n",
    "Next: [8.5 Further reading and references](../8_Calibration/8_x_further_reading_and_references.ipynb)"
   ]
  }
 ],
 "metadata": {
  "kernelspec": {
   "display_name": "Python 2",
   "language": "python",
   "name": "python2"
  },
  "language_info": {
   "codemirror_mode": {
    "name": "ipython",
    "version": 2
   },
   "file_extension": ".py",
   "mimetype": "text/x-python",
   "name": "python",
   "nbconvert_exporter": "python",
   "pygments_lexer": "ipython2",
   "version": "2.7.6"
  }
 },
 "nbformat": 4,
 "nbformat_minor": 0
}
