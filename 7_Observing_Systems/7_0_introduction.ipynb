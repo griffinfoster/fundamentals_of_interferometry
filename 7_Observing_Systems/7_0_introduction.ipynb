{
 "cells": [
  {
   "cell_type": "markdown",
   "metadata": {},
   "source": [
    "***\n",
    "\n",
    "* [Outline](../0_Introduction/0_introduction.ipynb)\n",
    "* [Glossary](../0_Introduction/1_glossary.ipynb)\n",
    "* [7. Observing Systems](#)  \n",
    "    * Next: [7.1 Jones Notation](7_1_jones_notation.ipynb)\n",
    "\n",
    "***"
   ]
  },
  {
   "cell_type": "markdown",
   "metadata": {},
   "source": [
    "**TODO**\n",
    "\n",
    "* add Jones terms to section titles"
   ]
  },
  {
   "cell_type": "markdown",
   "metadata": {},
   "source": [
    "# Chapter 7: Observing Systems<a id='instrum:sec:intro'></a>"
   ]
  },
  {
   "cell_type": "markdown",
   "metadata": {},
   "source": [
    "When thinking about engineering and the development of an instrument from a practical point of view the key concept to get across is that *any measurement is a loss in information and is noisy*. In the case of astronomy, there is the potential to measure infinite frequency bandwidth, frequency resolution, time bandwidth, and time resolution across a $4\\pi$ area of the sky. In reality, the instruments that we can build have limits on all these parameters, so we must be selective about which information we retain based on the scientific goals and engineering limitations when an instrument is build and how it is used.\n",
    "\n",
    "In the case of radio interferometry the instrument is the collection of receiving elements (be they dishes or dipole antennas or any number of exotic telescopes) which make up the array and the electronic chains used to detect, filter, and amplify the incoming signals. Each stage and component of the instrument has an intrinsic effect on the true sky signal. Much of the process of being able to produce a scientifically useful result from an interferometric array is being able to understand and correcting for (up to some accuracy) these intrinsic effects.\n",
    "\n",
    "A mathematical framework for describing an instrumental effect on a polarized electromagnetic wave, called Jones Calculus, have been well developed. Jones notation has been further used to formulate the *Radio Interferometric Measurement Equation (RIME)* which is a generic equation which describes the transform of the original electromagnetic signal to the measured signal. The RIME is deceptively simple but fully encapsulates the effects of the radio interferometer system along with any intervening effects such as the ionosphere, atmosphere, intersteller medium, etc.\n",
    "\n",
    "This chapter will begin with the mathematical description of Jones Calculus and the RIME before moving on to explain the dominant instrumental effects seen in interferometric arrays. These effects are seperated into two types: *direction-independent effects (DIEs)* which affects signals from al direction of the sky in the same way and *direction-dependent effects (DDEs)* which vary based on the sky position of the where a signal originated. For example, the gain of a source due to it's position relative to the direction a dish is pointed is a direction-dependent effect. If the dish is moved the source will either increase or descrease in gain based on the *beam pattern* of the dish. And, the variations due to the electronic stability of the system is a direction-independent effect because the effect happens after the signal has been received.\n",
    "\n",
    "As we will see in this chapter, the measurement of the sky will be affected by the design and stability of the system electronics, power pattern of the receiving elements, the type of mounts and pointing of dishes, the intervening mediums such as the atmosphere, and *radio frequency interference (RFI)* due to humans, terrestrial sources such as lightning, or the Sun."
   ]
  },
  {
   "cell_type": "markdown",
   "metadata": {},
   "source": [
    "#### Chapter Outline"
   ]
  },
  {
   "cell_type": "markdown",
   "metadata": {},
   "source": [
    "1. [Jones Notation](7_1_jones_notation.ipynb)\n",
    "2. [The Measurement Equation](7_2_rime.ipynb)\n",
    "3. [Direction-dependent and Independent effects](7_3_direction_independent_and_dependent_effects.ipynb)\n",
    "4. [Electronics: bandpass, gain variation, system noise/sensitivity](7_4_electronics.ipynb)\n",
    "5. [The Primary Beam](7_5_primary_beam.ipynb)\n",
    "6. [Polarization and Feed Leakage](7_6_polarization.ipynb)\n",
    "7. [Antenna Mounts and Parallactic Angle](7_7_antenna_mounts_and_parallactic_angle.ipynb)\n",
    "8. [Propagation Effects](7_8_propagation_effects.ipynb)\n",
    "9. [Radio Frequency Interference (RFI)](7_9_rfi.ipynb)\n",
    "10. [Further Reading and References](7_x_further_reading_and_references.ipynb)"
   ]
  },
  {
   "cell_type": "markdown",
   "metadata": {},
   "source": [
    "#### Chapter Editors\n",
    "\n",
    "* Kshitij Thorat\n",
    "* Ermias Abebe Kassaye\n",
    "* Alexander Akoto-Danso\n",
    "* Griffin Foster\n",
    "\n",
    "#### Chapter Contributors\n",
    "\n",
    "* Oleg Smirnov (**7.1**, **7.2**)\n",
    "* Modhurita Mitra (**7.3**, **7.5**, **7.7**)\n",
    "* Griffin Foster (**7.0**, **7.4**, 7.6)\n",
    "* Ridhima Nunhokee (**7.6**)\n",
    "* Roger Deane (**7.8**)"
   ]
  },
  {
   "cell_type": "markdown",
   "metadata": {},
   "source": [
    "***\n",
    "\n",
    "Next: [7.1 Jones Notation](7_1_jones_notation.ipynb)"
   ]
  }
 ],
 "metadata": {
  "kernelspec": {
   "display_name": "Python 2",
   "language": "python",
   "name": "python2"
  },
  "language_info": {
   "codemirror_mode": {
    "name": "ipython",
    "version": 2
   },
   "file_extension": ".py",
   "mimetype": "text/x-python",
   "name": "python",
   "nbconvert_exporter": "python",
   "pygments_lexer": "ipython2",
   "version": "2.7.6"
  }
 },
 "nbformat": 4,
 "nbformat_minor": 0
}
