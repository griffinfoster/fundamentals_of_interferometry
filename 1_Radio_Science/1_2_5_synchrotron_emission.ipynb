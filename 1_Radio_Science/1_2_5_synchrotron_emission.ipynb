{
 "cells": [
  {
   "cell_type": "code",
   "execution_count": null,
   "metadata": {
    "collapsed": false
   },
   "outputs": [],
   "source": [
    "import numpy as np\n",
    "import matplotlib.pyplot as plt\n",
    "%matplotlib inline\n",
    "from IPython.display import Image\n",
    "import glob,os\n"
   ]
  },
  {
   "cell_type": "markdown",
   "metadata": {},
   "source": [
    "***\n",
    "\n",
    "* [Outline](../0_Introduction/0_introduction.ipynb)\n",
    "* [Glossary](../0_Introduction/1_glossary.ipynb)\n",
    "* [1. Radio Science using Interferometric Arrays](#)  \n",
    "    * Previous:[1.2.4 Black Body Radiation](1_2_4_black_body_radiation.ipynb)\n",
    "    * Next: [1.2.6 21 cm Emission](1_2_6_21_cm.ipynb)\n",
    "***"
   ]
  },
  {
   "cell_type": "markdown",
   "metadata": {},
   "source": [
    "### 1.2.5 Synchrotron Emission:"
   ]
  },
  {
   "cell_type": "markdown",
   "metadata": {},
   "source": [
    "Sychrotron emission is one of the most commonly encountered forms of radiation found in radio astronomy. To get synchrotron radiation, one has to have relativistic particles get accelerated in a magnetic field. "
   ]
  },
  {
   "cell_type": "markdown",
   "metadata": {},
   "source": [
    "An understanding of generation of Synchrotron emission depends fundamentally on special relativistic effects. Here we wil not go into the details; but try to give an (somewhat handwaving) idea of the underlying physics. An accelerating charge emitts radiation (as we have seen in section 1.2.1) - here the acceleration is done through the ambient magnetic fields. The non-relativistic Larmor formula for the radiated power is: \n",
    "\n",
    "\n",
    " $$P= \\frac{2}{3}\\frac{q^{2}a^{2}}{c^{3}}$$. Since the acceleration is a result of the magnetic fields, we get: $$P=\\frac{2}{3}\\frac{q^{2}}{c^{3}}\\frac{v_{\\perp}^{2}B^{2}q^{2}}{m^{2}}$$, \n",
    "\n",
    "where $v_{\\perp}$ is the component of velocity of the particle perpendicular to the magnetic field, $m$ is the mass of the charged particle, $q$ is it's charge and $a$ is the acceleration it is undergoing. This is essentially the cyclotron radiation. The relativistic effects modify this into : $$P = \\gamma^{2} \\frac{2}{3}\\frac{q^{2}}{c^{3}}\\frac{v_{\\perp}^{2}B^{2}q^{2}}{m^{2}c^{2}} = \\gamma^{2} \\frac{2}{3}\\frac{q^{4}}{c^{3}}\\frac{v_{\\perp}^{2}B^{2}}{m^{2}c^{2}}$$, \n",
    "\n",
    "where $$\\gamma = \\frac{1}{\\sqrt{1+v^{2}/c^{2}}} = \\frac{E}{mc^{2}}$$, \n",
    "\n",
    "is a measure of the energy of the particle. For particles to be considered relativistic and ultrarelativistic, $\\gamma >> 1$, typically with a value of $100-1000$. Since $v_{\\perp}=vsin\\alpha$, with $\\alpha$ being the angle between the magnetic field and the velocity of the particle, the radiated power can be written as: $$P=\\gamma^{2} \\frac{2}{3}\\frac{q^{4}}{c^{3}}\\frac{v^{2}B^{2}sin\\alpha^{2}}{m^{2}c^{2}}$$. From this equation it can be seen that *the total power radiated by the particle depends on the strength of the magnetic field* and that *the higher the energy of the particle, the more the power it radiates away*. \n",
    "\n",
    "In analogy with the non-relativistic case, there is a frequency of gyration. This refers to the path the charged particle follows while being accelerated in a magnetic field. The figure below illustrates the idea."
   ]
  },
  {
   "cell_type": "code",
   "execution_count": null,
   "metadata": {
    "collapsed": false
   },
   "outputs": [],
   "source": [
    "Image(filename='Figures/drawing.png', width=300)"
   ]
  },
  {
   "cell_type": "markdown",
   "metadata": {},
   "source": [
    "The frequency of gyration in the non-relativistic case is simply $$\\omega = \\frac{qB}{mc}$$. For synchrotron radiation, this gets modified to $$\\omega_{G}= \\frac{qB}{\\gamma mc}$$,\n",
    "\n",
    "since it is the relativistic mass, i.e. $\\gamma mc$ which we should consider in this case.\n",
    "\n",
    "In the non-relativistic case (i.e. cyclotron radiation), the frequency of gyration is also the frequency of radiation. If this was also the case for the synchrotron radiation, for magnetic fields of galactic strengths (a few microGauss <span style=\"background-color:cyan\">KT: Define Gauss? Add in Glossary?</span> or so), the resultant frequency would be less than a Hertz ! Luckily for us, the relativistic beaming and doppler effects come into play; the actual frequency of the observed radiation gets bumped up by a factor of ~ $\\gamma^{3}$, which brings it in the radio regime. This frequency, known also as the 'critical frequency' is at most of the emission takes place. It is given by $$\\nu_{c} \\propto \\gamma^{3}\\nu_{G} \\propto E^{2}$$. "
   ]
  },
  {
   "cell_type": "markdown",
   "metadata": {},
   "source": [
    "So far we have discussed a single particle emitting synchrotron radiation. However, what we want to know is the case of an ensemble of raditing particles. Since the Synchrotron emission depends only on the magnetic field and the energy of the particle, given a (more or less) uniform magnetic field, what we need is a distribution of the particles with energy. Denoting the distribution N(E) (number of particles per unit volume per solid angle) of the particles, the resultant spectrum from the ensemble of the particles is: $$ \\epsilon(E) dE = N(E) P(E) dE $$.\n",
    "\n",
    "The usual assumption made about the distribution N(E) (based also on the observed cosmic ray distribution) is that of a power law, i.e.\n",
    "$$N(E)dE=E^{-\\alpha}dE$$. \n",
    "\n",
    "Plugging in this and remembering that $P(E) \\propto \\gamma^{2} \\propto E^{2}$, we get $$ \\epsilon(E) dE \\propto E^{2-\\alpha} dE $$. \n",
    "\n",
    "Shifting to frequncy domain, $$\\epsilon(\\nu)  \\propto \\nu^{(1-\\alpha)/2} $$. \n",
    "\n",
    "The usual value for $\\alpha$ is 5/2 and since flux $S_{\\nu} \\propto \\epsilon_{\\nu}$, $$S_{\\nu} \\propto \\nu^{-0.75}$$. \n",
    "\n",
    "This shows that the synchrotron flux is also a power law, if the underlying distribution of particles is a power law.\n",
    "\n",
    "This is approximately valid for 'fresh' collection of radiating particles. However, as mentioned above, the higher energy particles lose energy through radiation much faster than the lower energy particles. This means that the distribution of particles over time gets steeper at higher frequncies (which is where the contribution from the high energy particles comes in). This steepening of the spectral index is a typical feature of older plasma in astrophysical scenarios.\n",
    "\n",
    "\n"
   ]
  },
  {
   "cell_type": "markdown",
   "metadata": {
    "collapsed": true
   },
   "source": [
    "#### 1.2.5.1 Sources of Synchrotron Emission:"
   ]
  },
  {
   "cell_type": "markdown",
   "metadata": {},
   "source": [
    "So where do we actually see synchrotron emission? As mentioned above, the prerequisites are magnetic fields and relativistic particles. These conditions are satisfied in a variety of situations. A prime example is that of lobes of radio galaxies. The lobes contain relativistic plasma in magnetic fields of strength ~ $\\mu$G. The origin of the plasma and the magnetic field is thought to be in ultimately in the activity taking place in the central part of the radio galaxies, which hosts a supermassive black hole. The figure below shows a radio image of the radio galaxy nearest to us, Cygnus A. The jets, which carry relativistic plasma/particles originate from the centre of the host galaxy (emission from there is marked as 'core'), collide with the surrounding medium at the places which show bright spots of emission, labelled as \"hotspots\". The plasma forming the radio lobe streams back from the hotspots, which means that the 'freshest' plasma resides in the hotspots and the surrounding regions of the lobes; by contrast, the plasma in lobes closest to the centre is the oldest. <span style=\"background-color:cyan\">KT:Add a figure with spectrum from different parts of the radio source illustrating the discussion. Give references.</span>"
   ]
  },
  {
   "cell_type": "code",
   "execution_count": null,
   "metadata": {
    "collapsed": false
   },
   "outputs": [],
   "source": [
    "Image(filename='Figures/cygnusA.png')"
   ]
  },
  {
   "cell_type": "markdown",
   "metadata": {},
   "source": [
    "The non-thermal nature of the emission can be seen easily by measuring the spectrum of the radio emission from the lobes. The plots below show the spectrum of the lobes of Cygnus A, from a frequency of 150 MHz to 14.65 GHz. It can be seen that these can be explained better by a synchrotron spectrum rather than a spectrum of thermal origins. Another observation can be made from the plot that the spectral index of the lobe emission seems steeper than the flux from the hotspot. This is consistent with fresh plasma being the one from the hotspot and the older plasma residing in the lobes."
   ]
  },
  {
   "cell_type": "code",
   "execution_count": null,
   "metadata": {
    "collapsed": false
   },
   "outputs": [],
   "source": [
    "# Data taken from Steenbrugge et al.,2010, MNRAS\n",
    "freq=(151.0,327.5,1345.0,4525.0,8514.9,14650.0)\n",
    "flux_L=(4746,2752.7,749.8,189.4,83.4,40.5)\n",
    "flux_H=(115.7,176.4,69.3,45.2,20.8,13.4)\n",
    "fig,ax = plt.subplots()\n",
    "ax.loglog(freq,flux_L,'bo--',label='Lobe Flux')\n",
    "ax.loglog(freq,flux_H,'g*-',label='Hotspot Flux')\n",
    "ax.legend()\n",
    "ax.set_xlabel(\"Frequency (MHz)\")\n",
    "ax.set_ylabel(\"Flux (Jy)\")"
   ]
  },
  {
   "cell_type": "markdown",
   "metadata": {},
   "source": [
    "***\n",
    "\n",
    "* Next:[1.2.6 21 cm Emission](1_2_6_21_cm.ipynb)"
   ]
  }
 ],
 "metadata": {
  "kernelspec": {
   "display_name": "Python 2",
   "language": "python",
   "name": "python2"
  },
  "language_info": {
   "codemirror_mode": {
    "name": "ipython",
    "version": 2
   },
   "file_extension": ".py",
   "mimetype": "text/x-python",
   "name": "python",
   "nbconvert_exporter": "python",
   "pygments_lexer": "ipython2",
   "version": "2.7.6"
  }
 },
 "nbformat": 4,
 "nbformat_minor": 0
}
