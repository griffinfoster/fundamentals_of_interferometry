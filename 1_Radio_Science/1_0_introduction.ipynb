{
 "cells": [
  {
   "cell_type": "markdown",
   "metadata": {},
   "source": [
    "***\n",
    "\n",
    "* [Outline](../0_Introduction/0_introduction.ipynb)\n",
    "* [Glossary](../0_Introduction/1_glossary.ipynb)\n",
    "* [1. Radio Science using Interferometric Arrays](#)  \n",
    "    * Next: [1.1 What are we trying to do? What is the point?]()\n",
    "\n",
    "***"
   ]
  },
  {
   "cell_type": "code",
   "execution_count": null,
   "metadata": {
    "collapsed": false,
    "scrolled": true
   },
   "outputs": [],
   "source": [
    "import numpy as np\n",
    "import matplotlib.pyplot as plt\n",
    "%matplotlib inline"
   ]
  },
  {
   "cell_type": "markdown",
   "metadata": {},
   "source": [
    "# Chapter 1: Radio Science using Interferometric Arrays<a id='science:sec:intro'></a>"
   ]
  },
  {
   "cell_type": "markdown",
   "metadata": {},
   "source": [
    "***\n",
    "Chapterwide Comments:\n",
    "   1. <span style=\"background-color:cyan\">AAD + KT: Details of what physics can be done are lacking. </span>\n",
    "\n",
    "   2. <span style=\"background-color:cyan\">AAD : An overview of how are sources are observed is needed. </span>\n",
    "   \n",
    "   3. <span style=\"background-color:cyan\">EK : Figure captions missing. </span>\n"
   ]
  },
  {
   "cell_type": "markdown",
   "metadata": {},
   "source": [
    "Using interferometric arrays for science is often talked about as 'black magic' which is more art than science. This should not be the case, the topic can be difficult and is fairly unique to astronomy. There are a few similarities to other fields of physics, but it is a subject which is based in fundamental concepts of mathematics. We should not be scared. There is certainly an advantage to building up intuition which comes about from exposure to building interferometric arrays and using the observed data to recover scientific signals. That all comes with time. The focus of this book is to start from a point of interest in the subject and get us to a place where we are comfortable enough in the fundamentals that we can move onto the unique complexities that arise in the use of these arrays.\n",
    "\n",
    "Producing images, and by extension science, from interferometric arrays is usually poorly introduced. There are reference books which require a working knowledge of the subject to use, or there is a small section of introduction to radio astronomy books which gloss over the concepts of actually using interferometric arrays. When synthesis imaging and interferometry is taught it is usually in a whirwind one or two week workshop which a flood of new concepts are introduced by a range of lecturers. This leads to confusion and contradictions which leave the student broadly with the idea that the whole process of producing images from interferometric arrays is a type of black art left to a priviledged few to understand. But, this should not be the case. Granted, the topics can be difficult given that they are particular to the field, but they are based on universal mathematical and physical concepts. The hope of this book is to bridge the gap between those with a broad understanding of mathematics and astronomy to the concepts of interferometry.\n",
    "\n",
    "Throughout this book, it is important to remember that interferometry it used to produce a 'synthesized' image of the sky by combining many individual telescopes into a single 'synthesized' telescope. This is different than what we typically think of as astronomy with telescopes because in the radio domain there are a number of engineering and physical limitations at work with require different solutions. But, a synthezised telescope is closely related to a typical telescope, though the details often obscure this.\n",
    "\n",
    "Before we introduce the fundamental concepts of interferometry we will lay some ground work to motivate the topic. In this chapter we will provide a survey of the type of science done with interferometers, the advantage to using interferometric arrays, and the types of arrays currently in use. Chapter 2 provides an overview of the mathematics which are common in interferometry, this chapter will be a useful reference for the chapters which follow."
   ]
  },
  {
   "cell_type": "markdown",
   "metadata": {},
   "source": [
    "#### Chapter Sections\n",
    "\n",
    "1. [A Brief Introduction to Interferometry and its History](1_1_a_brief_introduction_to_interferometry.ipynb)\n",
    "2. [An Introduction to Basic Astrophysics](1_2_an_introduction_to_basic_astrophysics.ipynb)\n",
    "    1. [Definitions](1_2_0_definitions.ipynb) \n",
    "    2. [Electromagnetic radiation](1_2_1_electromagnetic_radiation.ipynb) \n",
    "    3. [Radiation Transport](1_2_2_Radiation_transport.ipynb) \n",
    "    4. [Radio Regime](1_2_3_Radio_Regime.ipynb)\n",
    "    5. Emission Mechanisms:\n",
    "        1. [Black Body Radiation](1_2_4_black_body_radiation.ipynb) \n",
    "        2. [Synchrotron Emission](1_2_5_synchrotron_emission.ipynb) \n",
    "        7. [21 cm Line](1_2_6_21_cm.ipynb) \n",
    "3. [The Limits of Single Dish Astronomy](1_3_limits_of_single_dishes.ipynb)\n",
    "4. [Modern Interferometric Arrays](1_4_arrays_diversity_and_uses.ipynb)\n",
    "4. [Further Reading and References](1_5_further_reading_and_references.ipynb)"
   ]
  },
  {
   "cell_type": "markdown",
   "metadata": {},
   "source": [
    "### Chapter Editors\n",
    "* Alexander Akoto-Danso \n",
    "* Ermias Abebe Kassaye\n",
    "* Kshitij Thorat\n",
    "* Griffin Foster\n",
    "\n",
    "#### Chapter Contributors\n",
    "\n",
    "* Griffin Foster (**1.0**)\n",
    "* Oleg Smirnov (**1.1**)\n",
    "* Gyula Jozsa (**1.2.1**, **1.2.2**, **1.2.6**)\n",
    "* Kshitij Thorat (Sections **1.2.0**, **1.2.3**, **1.2.4**, **1.2.5**)\n",
    "* Julien Girard (**1.3**)"
   ]
  },
  {
   "cell_type": "markdown",
   "metadata": {},
   "source": [
    "***\n",
    "\n",
    "Next: [1.1 A Brief Introduction to Interferometry and its History](1_1_a_brief_introduction_to_interferometry.ipynb)"
   ]
  }
 ],
 "metadata": {
  "kernelspec": {
   "display_name": "Python 2",
   "language": "python",
   "name": "python2"
  },
  "language_info": {
   "codemirror_mode": {
    "name": "ipython",
    "version": 2
   },
   "file_extension": ".py",
   "mimetype": "text/x-python",
   "name": "python",
   "nbconvert_exporter": "python",
   "pygments_lexer": "ipython2",
   "version": "2.7.6"
  }
 },
 "nbformat": 4,
 "nbformat_minor": 0
}
